{
  "nbformat": 4,
  "nbformat_minor": 0,
  "metadata": {
    "colab": {
      "name": "Untitled13.ipynb",
      "provenance": []
    },
    "kernelspec": {
      "name": "python3",
      "display_name": "Python 3"
    }
  },
  "cells": [
    {
      "cell_type": "markdown",
      "metadata": {
        "id": "X5HeEBz3Y7n_"
      },
      "source": [
        "**Question** -2\n"
      ]
    },
    {
      "cell_type": "code",
      "metadata": {
        "colab": {
          "base_uri": "https://localhost:8080/"
        },
        "id": "dO7maPyez2Gr",
        "outputId": "51194ed0-1dc0-43b7-b7f1-df61e22348bf"
      },
      "source": [
        "def sagar(a,b):\n",
        " sagar1=[]\n",
        " for i in b:\n",
        "   if i in a:\n",
        "     sagar1.append(i)\n",
        " return sagar1\n",
        "\n",
        "a=[1,2,2,1,2]\n",
        "b=[2,5,1]\n",
        "print(sagar(a,b))"
      ],
      "execution_count": 160,
      "outputs": [
        {
          "output_type": "stream",
          "text": [
            "[2, 1]\n"
          ],
          "name": "stdout"
        }
      ]
    },
    {
      "cell_type": "markdown",
      "metadata": {
        "id": "4Pd0cDrOY52R"
      },
      "source": [
        "Question-4\n"
      ]
    },
    {
      "cell_type": "code",
      "metadata": {
        "colab": {
          "base_uri": "https://localhost:8080/"
        },
        "id": "zmc3yqQ12tOr",
        "outputId": "371dc995-c83d-4d1e-9bf6-1008b23c91bb"
      },
      "source": [
        "from collections import Counter\n",
        "def sagar(a):\n",
        "  a=Counter(a)\n",
        "  keys=[keys for(keys,values) in a.items()if values==1]\n",
        "  return (keys)\n",
        "a= [4,1,2,1,2]\n",
        "print(sagar(a))"
      ],
      "execution_count": 74,
      "outputs": [
        {
          "output_type": "stream",
          "text": [
            "[4]\n"
          ],
          "name": "stdout"
        }
      ]
    },
    {
      "cell_type": "markdown",
      "metadata": {
        "id": "pnzhI-8iZQEr"
      },
      "source": [
        "Question-3"
      ]
    },
    {
      "cell_type": "code",
      "metadata": {
        "colab": {
          "base_uri": "https://localhost:8080/"
        },
        "id": "5sWpQG-Q8RFr",
        "outputId": "b38102c9-2345-4d01-e7f1-ac0272fc8a0a"
      },
      "source": [
        "\n",
        "\n",
        "def sagar(s):\n",
        " while \"()\" in s or \"{}\" in s or '[]' in s:\n",
        "            s = s.replace(\"()\", \"\").replace('{}', \"\").replace('[]', \"\")\n",
        "            if s == '' :\n",
        "              print(\"true\")\n",
        "            else:\n",
        "              print(\"false\")\n",
        "\n",
        "s=\"()[]{}{}[]{}\"\n",
        "sagar(s)\n",
        "        \n",
        "\n",
        "       \n"
      ],
      "execution_count": 143,
      "outputs": [
        {
          "output_type": "stream",
          "text": [
            "true\n"
          ],
          "name": "stdout"
        }
      ]
    },
    {
      "cell_type": "code",
      "metadata": {
        "id": "nz6x-hcOZbIT"
      },
      "source": [
        ""
      ],
      "execution_count": null,
      "outputs": []
    }
  ]
}